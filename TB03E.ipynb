{
  "cells": [
    {
      "cell_type": "code",
      "execution_count": 68,
      "metadata": {
        "id": "hbAvfLcH8p__"
      },
      "outputs": [],
      "source": [
        "# Import dependencies & libraries\n",
        "from google.colab import files\n",
        "import pandas as pd\n",
        "from scipy.stats import linregress\n",
        "from sklearn.preprocessing import StandardScaler\n",
        "import torch\n",
        "from torch.utils.data import Dataset, DataLoader\n",
        "import torch.nn as nn\n",
        "import torch.nn.functional as F\n",
        "import torch.optim as optim"
      ]
    },
    {
      "cell_type": "code",
      "execution_count": 69,
      "metadata": {
        "colab": {
          "base_uri": "https://localhost:8080/",
          "height": 38
        },
        "id": "7p-GC42A-LBo",
        "outputId": "21043737-1998-4581-d992-ddf2a039b331"
      },
      "outputs": [
        {
          "output_type": "display_data",
          "data": {
            "text/plain": [
              "<IPython.core.display.HTML object>"
            ],
            "text/html": [
              "\n",
              "     <input type=\"file\" id=\"files-23f17bf8-f802-469d-a0e4-98d1df37dcbd\" name=\"files[]\" multiple disabled\n",
              "        style=\"border:none\" />\n",
              "     <output id=\"result-23f17bf8-f802-469d-a0e4-98d1df37dcbd\">\n",
              "      Upload widget is only available when the cell has been executed in the\n",
              "      current browser session. Please rerun this cell to enable.\n",
              "      </output>\n",
              "      <script>// Copyright 2017 Google LLC\n",
              "//\n",
              "// Licensed under the Apache License, Version 2.0 (the \"License\");\n",
              "// you may not use this file except in compliance with the License.\n",
              "// You may obtain a copy of the License at\n",
              "//\n",
              "//      http://www.apache.org/licenses/LICENSE-2.0\n",
              "//\n",
              "// Unless required by applicable law or agreed to in writing, software\n",
              "// distributed under the License is distributed on an \"AS IS\" BASIS,\n",
              "// WITHOUT WARRANTIES OR CONDITIONS OF ANY KIND, either express or implied.\n",
              "// See the License for the specific language governing permissions and\n",
              "// limitations under the License.\n",
              "\n",
              "/**\n",
              " * @fileoverview Helpers for google.colab Python module.\n",
              " */\n",
              "(function(scope) {\n",
              "function span(text, styleAttributes = {}) {\n",
              "  const element = document.createElement('span');\n",
              "  element.textContent = text;\n",
              "  for (const key of Object.keys(styleAttributes)) {\n",
              "    element.style[key] = styleAttributes[key];\n",
              "  }\n",
              "  return element;\n",
              "}\n",
              "\n",
              "// Max number of bytes which will be uploaded at a time.\n",
              "const MAX_PAYLOAD_SIZE = 100 * 1024;\n",
              "\n",
              "function _uploadFiles(inputId, outputId) {\n",
              "  const steps = uploadFilesStep(inputId, outputId);\n",
              "  const outputElement = document.getElementById(outputId);\n",
              "  // Cache steps on the outputElement to make it available for the next call\n",
              "  // to uploadFilesContinue from Python.\n",
              "  outputElement.steps = steps;\n",
              "\n",
              "  return _uploadFilesContinue(outputId);\n",
              "}\n",
              "\n",
              "// This is roughly an async generator (not supported in the browser yet),\n",
              "// where there are multiple asynchronous steps and the Python side is going\n",
              "// to poll for completion of each step.\n",
              "// This uses a Promise to block the python side on completion of each step,\n",
              "// then passes the result of the previous step as the input to the next step.\n",
              "function _uploadFilesContinue(outputId) {\n",
              "  const outputElement = document.getElementById(outputId);\n",
              "  const steps = outputElement.steps;\n",
              "\n",
              "  const next = steps.next(outputElement.lastPromiseValue);\n",
              "  return Promise.resolve(next.value.promise).then((value) => {\n",
              "    // Cache the last promise value to make it available to the next\n",
              "    // step of the generator.\n",
              "    outputElement.lastPromiseValue = value;\n",
              "    return next.value.response;\n",
              "  });\n",
              "}\n",
              "\n",
              "/**\n",
              " * Generator function which is called between each async step of the upload\n",
              " * process.\n",
              " * @param {string} inputId Element ID of the input file picker element.\n",
              " * @param {string} outputId Element ID of the output display.\n",
              " * @return {!Iterable<!Object>} Iterable of next steps.\n",
              " */\n",
              "function* uploadFilesStep(inputId, outputId) {\n",
              "  const inputElement = document.getElementById(inputId);\n",
              "  inputElement.disabled = false;\n",
              "\n",
              "  const outputElement = document.getElementById(outputId);\n",
              "  outputElement.innerHTML = '';\n",
              "\n",
              "  const pickedPromise = new Promise((resolve) => {\n",
              "    inputElement.addEventListener('change', (e) => {\n",
              "      resolve(e.target.files);\n",
              "    });\n",
              "  });\n",
              "\n",
              "  const cancel = document.createElement('button');\n",
              "  inputElement.parentElement.appendChild(cancel);\n",
              "  cancel.textContent = 'Cancel upload';\n",
              "  const cancelPromise = new Promise((resolve) => {\n",
              "    cancel.onclick = () => {\n",
              "      resolve(null);\n",
              "    };\n",
              "  });\n",
              "\n",
              "  // Wait for the user to pick the files.\n",
              "  const files = yield {\n",
              "    promise: Promise.race([pickedPromise, cancelPromise]),\n",
              "    response: {\n",
              "      action: 'starting',\n",
              "    }\n",
              "  };\n",
              "\n",
              "  cancel.remove();\n",
              "\n",
              "  // Disable the input element since further picks are not allowed.\n",
              "  inputElement.disabled = true;\n",
              "\n",
              "  if (!files) {\n",
              "    return {\n",
              "      response: {\n",
              "        action: 'complete',\n",
              "      }\n",
              "    };\n",
              "  }\n",
              "\n",
              "  for (const file of files) {\n",
              "    const li = document.createElement('li');\n",
              "    li.append(span(file.name, {fontWeight: 'bold'}));\n",
              "    li.append(span(\n",
              "        `(${file.type || 'n/a'}) - ${file.size} bytes, ` +\n",
              "        `last modified: ${\n",
              "            file.lastModifiedDate ? file.lastModifiedDate.toLocaleDateString() :\n",
              "                                    'n/a'} - `));\n",
              "    const percent = span('0% done');\n",
              "    li.appendChild(percent);\n",
              "\n",
              "    outputElement.appendChild(li);\n",
              "\n",
              "    const fileDataPromise = new Promise((resolve) => {\n",
              "      const reader = new FileReader();\n",
              "      reader.onload = (e) => {\n",
              "        resolve(e.target.result);\n",
              "      };\n",
              "      reader.readAsArrayBuffer(file);\n",
              "    });\n",
              "    // Wait for the data to be ready.\n",
              "    let fileData = yield {\n",
              "      promise: fileDataPromise,\n",
              "      response: {\n",
              "        action: 'continue',\n",
              "      }\n",
              "    };\n",
              "\n",
              "    // Use a chunked sending to avoid message size limits. See b/62115660.\n",
              "    let position = 0;\n",
              "    do {\n",
              "      const length = Math.min(fileData.byteLength - position, MAX_PAYLOAD_SIZE);\n",
              "      const chunk = new Uint8Array(fileData, position, length);\n",
              "      position += length;\n",
              "\n",
              "      const base64 = btoa(String.fromCharCode.apply(null, chunk));\n",
              "      yield {\n",
              "        response: {\n",
              "          action: 'append',\n",
              "          file: file.name,\n",
              "          data: base64,\n",
              "        },\n",
              "      };\n",
              "\n",
              "      let percentDone = fileData.byteLength === 0 ?\n",
              "          100 :\n",
              "          Math.round((position / fileData.byteLength) * 100);\n",
              "      percent.textContent = `${percentDone}% done`;\n",
              "\n",
              "    } while (position < fileData.byteLength);\n",
              "  }\n",
              "\n",
              "  // All done.\n",
              "  yield {\n",
              "    response: {\n",
              "      action: 'complete',\n",
              "    }\n",
              "  };\n",
              "}\n",
              "\n",
              "scope.google = scope.google || {};\n",
              "scope.google.colab = scope.google.colab || {};\n",
              "scope.google.colab._files = {\n",
              "  _uploadFiles,\n",
              "  _uploadFilesContinue,\n",
              "};\n",
              "})(self);\n",
              "</script> "
            ]
          },
          "metadata": {}
        }
      ],
      "source": [
        "# Upload file train.csv & test.csv sebelum menjalankan kode berikutnya\n",
        "uploaded = files.upload()"
      ]
    },
    {
      "cell_type": "code",
      "execution_count": 70,
      "metadata": {
        "colab": {
          "base_uri": "https://localhost:8080/"
        },
        "id": "8v8RGkZF-BiC",
        "outputId": "83c54561-c949-444f-f118-1f64f1862df8"
      },
      "outputs": [
        {
          "output_type": "stream",
          "name": "stdout",
          "text": [
            "Artist Name              0\n",
            "Track Name               0\n",
            "Popularity             428\n",
            "danceability             0\n",
            "energy                   0\n",
            "key                   2014\n",
            "loudness                 0\n",
            "mode                     0\n",
            "speechiness              0\n",
            "acousticness             0\n",
            "instrumentalness      4377\n",
            "liveness                 0\n",
            "valence                  0\n",
            "tempo                    0\n",
            "duration_in min/ms       0\n",
            "time_signature           0\n",
            "Class                    0\n",
            "dtype: int64\n",
            "Kolom pada training set dengan missing values:\n",
            "Popularity           428\n",
            "key                 2014\n",
            "instrumentalness    4377\n",
            "dtype: int64\n",
            "Artist Name              0\n",
            "Track Name               0\n",
            "Popularity             227\n",
            "danceability             0\n",
            "energy                   0\n",
            "key                    808\n",
            "loudness                 0\n",
            "mode                     0\n",
            "speechiness              0\n",
            "acousticness             0\n",
            "instrumentalness      1909\n",
            "liveness                 0\n",
            "valence                  0\n",
            "tempo                    0\n",
            "duration_in min/ms       0\n",
            "time_signature           0\n",
            "dtype: int64\n",
            "Kolom pada test set dengan missing values:\n",
            "Popularity           227\n",
            "key                  808\n",
            "instrumentalness    1909\n",
            "dtype: int64\n"
          ]
        }
      ],
      "source": [
        "#Cleaning starts here\n",
        "\"\"\"\n",
        "dataset cleaning:\n",
        "1) isi missing values pada kolom popularity dengan mean\n",
        "2) drop kolom instrumentalness & key dengan missing values\n",
        "\"\"\"\n",
        "\n",
        "# Load data\n",
        "train_df = pd.read_csv('train.csv')\n",
        "test_df= pd.read_csv('test.csv')\n",
        "\n",
        "# ----------------!!!-----------------------\n",
        "# Hitung jumlah missing value per kolom\n",
        "missing_values_train = train_df.isna().sum()\n",
        "\n",
        "# Tampilkan jumlah missing value\n",
        "print(missing_values_train)\n",
        "\n",
        "# Jika ingin melihat hanya kolom yang memiliki missing value\n",
        "missing_values_train = missing_values_train[missing_values_train > 0]\n",
        "print(\"Kolom pada training set dengan missing values:\")\n",
        "print(missing_values_train)\n",
        "\n",
        "# ----------------!!!-----------------------\n",
        "# Hitung jumlah missing value per kolom\n",
        "missing_values_test = test_df.isna().sum()\n",
        "\n",
        "# Tampilkan jumlah missing value\n",
        "print(missing_values_test)\n",
        "\n",
        "# Jika ingin melihat hanya kolom yang memiliki missing value\n",
        "missing_values_test = missing_values_test[missing_values_test > 0]\n",
        "print(\"Kolom pada test set dengan missing values:\")\n",
        "print(missing_values_test)\n",
        "\n",
        "# Isi missing value pada kolom Popularity dengan mean\n",
        "train_df['Popularity'] = train_df['Popularity'].fillna(round(train_df['Popularity'].mean(), 1))\n",
        "\n",
        "# Hapus kolom dengan missing values\n",
        "cleaned_train_df = train_df.drop([\"instrumentalness\", \"key\"], axis=1)\n",
        "cleaned_test_df = test_df.drop([\"instrumentalness\", \"key\"], axis=1)\n",
        "\n",
        "# Simpan dataset\n",
        "cleaned_train_df.to_csv('train_cleaned.csv', index=False)\n",
        "cleaned_test_df.to_csv('test_cleaned.csv', index=False)"
      ]
    },
    {
      "cell_type": "code",
      "execution_count": 71,
      "metadata": {
        "colab": {
          "base_uri": "https://localhost:8080/",
          "height": 17
        },
        "id": "ftMS6EGckZPP",
        "outputId": "0aebe521-20c8-41e3-9419-77da1e48f93b"
      },
      "outputs": [
        {
          "output_type": "display_data",
          "data": {
            "text/plain": [
              "<IPython.core.display.Javascript object>"
            ],
            "application/javascript": [
              "\n",
              "    async function download(id, filename, size) {\n",
              "      if (!google.colab.kernel.accessAllowed) {\n",
              "        return;\n",
              "      }\n",
              "      const div = document.createElement('div');\n",
              "      const label = document.createElement('label');\n",
              "      label.textContent = `Downloading \"${filename}\": `;\n",
              "      div.appendChild(label);\n",
              "      const progress = document.createElement('progress');\n",
              "      progress.max = size;\n",
              "      div.appendChild(progress);\n",
              "      document.body.appendChild(div);\n",
              "\n",
              "      const buffers = [];\n",
              "      let downloaded = 0;\n",
              "\n",
              "      const channel = await google.colab.kernel.comms.open(id);\n",
              "      // Send a message to notify the kernel that we're ready.\n",
              "      channel.send({})\n",
              "\n",
              "      for await (const message of channel.messages) {\n",
              "        // Send a message to notify the kernel that we're ready.\n",
              "        channel.send({})\n",
              "        if (message.buffers) {\n",
              "          for (const buffer of message.buffers) {\n",
              "            buffers.push(buffer);\n",
              "            downloaded += buffer.byteLength;\n",
              "            progress.value = downloaded;\n",
              "          }\n",
              "        }\n",
              "      }\n",
              "      const blob = new Blob(buffers, {type: 'application/binary'});\n",
              "      const a = document.createElement('a');\n",
              "      a.href = window.URL.createObjectURL(blob);\n",
              "      a.download = filename;\n",
              "      div.appendChild(a);\n",
              "      a.click();\n",
              "      div.remove();\n",
              "    }\n",
              "  "
            ]
          },
          "metadata": {}
        },
        {
          "output_type": "display_data",
          "data": {
            "text/plain": [
              "<IPython.core.display.Javascript object>"
            ],
            "application/javascript": [
              "download(\"download_9f11d437-b4f0-4004-95ed-b1db440eab37\", \"train_cleaned.csv\", 1907995)"
            ]
          },
          "metadata": {}
        },
        {
          "output_type": "display_data",
          "data": {
            "text/plain": [
              "<IPython.core.display.Javascript object>"
            ],
            "application/javascript": [
              "\n",
              "    async function download(id, filename, size) {\n",
              "      if (!google.colab.kernel.accessAllowed) {\n",
              "        return;\n",
              "      }\n",
              "      const div = document.createElement('div');\n",
              "      const label = document.createElement('label');\n",
              "      label.textContent = `Downloading \"${filename}\": `;\n",
              "      div.appendChild(label);\n",
              "      const progress = document.createElement('progress');\n",
              "      progress.max = size;\n",
              "      div.appendChild(progress);\n",
              "      document.body.appendChild(div);\n",
              "\n",
              "      const buffers = [];\n",
              "      let downloaded = 0;\n",
              "\n",
              "      const channel = await google.colab.kernel.comms.open(id);\n",
              "      // Send a message to notify the kernel that we're ready.\n",
              "      channel.send({})\n",
              "\n",
              "      for await (const message of channel.messages) {\n",
              "        // Send a message to notify the kernel that we're ready.\n",
              "        channel.send({})\n",
              "        if (message.buffers) {\n",
              "          for (const buffer of message.buffers) {\n",
              "            buffers.push(buffer);\n",
              "            downloaded += buffer.byteLength;\n",
              "            progress.value = downloaded;\n",
              "          }\n",
              "        }\n",
              "      }\n",
              "      const blob = new Blob(buffers, {type: 'application/binary'});\n",
              "      const a = document.createElement('a');\n",
              "      a.href = window.URL.createObjectURL(blob);\n",
              "      a.download = filename;\n",
              "      div.appendChild(a);\n",
              "      a.click();\n",
              "      div.remove();\n",
              "    }\n",
              "  "
            ]
          },
          "metadata": {}
        },
        {
          "output_type": "display_data",
          "data": {
            "text/plain": [
              "<IPython.core.display.Javascript object>"
            ],
            "application/javascript": [
              "download(\"download_1bc4fe9f-76e6-45c1-bac7-876edbea980f\", \"test_cleaned.csv\", 796890)"
            ]
          },
          "metadata": {}
        }
      ],
      "source": [
        "# (Optional) download file csv yg sudah dibersihkan\n",
        "files.download(\"train_cleaned.csv\")\n",
        "files.download(\"test_cleaned.csv\")"
      ]
    },
    {
      "cell_type": "code",
      "execution_count": 72,
      "metadata": {
        "colab": {
          "base_uri": "https://localhost:8080/"
        },
        "id": "0UBM-IQp-Hhr",
        "outputId": "b3850b60-f334-4a40-9b08-fbd392407169"
      },
      "outputs": [
        {
          "output_type": "stream",
          "name": "stdout",
          "text": [
            "Combined tensor:\n",
            " tensor([[ 0.8995,  1.8679, -0.4197,  ...,  1.0000,  4.0000,  5.0000],\n",
            "        [ 0.5511, -0.9709,  0.6425,  ...,  1.0000,  4.0000, 10.0000],\n",
            "        [-0.5524, -0.6582, -0.2072,  ...,  1.0000,  4.0000,  6.0000],\n",
            "        ...,\n",
            "        [-0.6105,  0.0876,  1.3520,  ...,  0.0000,  4.0000,  8.0000],\n",
            "        [-0.9009, -1.9754,  0.6043,  ...,  0.0000,  4.0000,  8.0000],\n",
            "        [-0.0878, -0.8627,  0.8082,  ...,  0.0000,  4.0000, 10.0000]],\n",
            "       dtype=torch.float64)\n"
          ]
        }
      ],
      "source": [
        "# Formating input & output on train set starts here\n",
        "\n",
        "# Pisahkan kolom berdasarkan tipe datanya\n",
        "columns_int64 = cleaned_train_df.select_dtypes(include=['int64']).columns  # Semua kolom bertipe int64\n",
        "columns_float64 = cleaned_train_df.select_dtypes(include=['float64']).columns  # Semua kolom bertipe float64\n",
        "\n",
        "# Inisialisasi object StandardScaler()\n",
        "scaler = StandardScaler()\n",
        "\n",
        "# Normalisasi kolom numerikal\n",
        "normalized_float_array = scaler.fit_transform(cleaned_train_df[columns_float64])\n",
        "\n",
        "# Konversi kolom int64 & float64 ke bentuk PyTorch tensor berdasarkan tipe data\n",
        "int_tensor = torch.tensor(cleaned_train_df[columns_int64].values, dtype=torch.int64)  # Untuk int64\n",
        "float_tensor = torch.tensor(normalized_float_array, dtype=torch.float64)  # Untuk float64\n",
        "\n",
        "# Pastikan banyak baris pada int_tensor & float_tensor sama\n",
        "assert int_tensor.shape[0] == float_tensor.shape[0]\n",
        "\n",
        "# Gabungkan tensor int64 & float64\n",
        "combined_tensor_train = torch.cat((float_tensor, int_tensor), dim=1)\n",
        "\n",
        "# Print hasil gabungan\n",
        "print(\"Combined tensor:\\n\", combined_tensor_train)\n"
      ]
    },
    {
      "cell_type": "code",
      "execution_count": 73,
      "metadata": {
        "colab": {
          "base_uri": "https://localhost:8080/"
        },
        "id": "fkTyli_CkAX_",
        "outputId": "aa9b6b78-74af-4065-c27f-a043889b613b"
      },
      "outputs": [
        {
          "output_type": "stream",
          "name": "stdout",
          "text": [
            "Combined tensor:\n",
            " tensor([[ 1.6110e+00, -1.4440e+00, -1.1093e+00,  ...,  1.0486e+00,\n",
            "          1.0000e+00,  4.0000e+00],\n",
            "        [-6.3033e-01, -2.2505e-01,  1.2416e+00,  ...,  1.8557e-01,\n",
            "          1.0000e+00,  4.0000e+00],\n",
            "        [ 1.8983e+00,  9.2113e-01,  1.9392e-01,  ...,  3.1259e-02,\n",
            "          1.0000e+00,  4.0000e+00],\n",
            "        ...,\n",
            "        [-4.0045e-01,  1.5579e+00,  1.0287e+00,  ..., -1.7632e+00,\n",
            "          0.0000e+00,  4.0000e+00],\n",
            "        [ 3.4665e-01,  1.5336e+00,  1.1351e+00,  ...,  1.9359e-01,\n",
            "          1.0000e+00,  4.0000e+00],\n",
            "        [ 1.8348e-03,  4.9662e-01,  8.6682e-01,  ...,  4.3984e-03,\n",
            "          0.0000e+00,  4.0000e+00]], dtype=torch.float64)\n"
          ]
        }
      ],
      "source": [
        "# Formating input on test set starts here\n",
        "\n",
        "# Pisahkan kolom berdasarkan tipe datanya\n",
        "columns_int64 = cleaned_test_df.select_dtypes(include=['int64']).columns  # Semua kolom bertipe int64\n",
        "columns_float64 = cleaned_test_df.select_dtypes(include=['float64']).columns  # Semua kolom bertipe float64\n",
        "\n",
        "# Inisialisasi object StandardScaler()\n",
        "scaler = StandardScaler()\n",
        "\n",
        "# Normalisasi kolom numerikal\n",
        "normalized_float_array = scaler.fit_transform(cleaned_test_df[columns_float64])\n",
        "\n",
        "# Konversi kolom int64 & float64 ke bentuk PyTorch tensor berdasarkan tipe data\n",
        "int_tensor = torch.tensor(cleaned_test_df[columns_int64].values, dtype=torch.int64)  # Untuk int64\n",
        "float_tensor = torch.tensor(normalized_float_array, dtype=torch.float64)  # Untuk float64\n",
        "\n",
        "# Pastikan banyak baris pada int_tensor & float_tensor sama\n",
        "assert int_tensor.shape[0] == float_tensor.shape[0]\n",
        "\n",
        "# Gabungkan tensor int64 & float64\n",
        "combined_tensor_test = torch.cat((float_tensor, int_tensor), dim=1)\n",
        "\n",
        "# Print hasil gabungan\n",
        "print(\"Combined tensor:\\n\", combined_tensor_test)\n"
      ]
    },
    {
      "cell_type": "code",
      "source": [
        "# Definisi kelas Dataset\n",
        "class MyDataset(Dataset):\n",
        "    def __init__(self, X, Y):\n",
        "        self.X = X  # Fitur\n",
        "        self.Y = Y  # Label/target\n",
        "\n",
        "    def __len__(self):\n",
        "        return self.X.shape[0]\n",
        "\n",
        "    def __getitem__(self, idx):\n",
        "        return self.X[idx], self.Y[idx]\n",
        "\n",
        "# Pisahkan fitur (X) dan label (Y)\n",
        "Xtrain = combined_tensor_train[:, :-1]\n",
        "Ytrain = combined_tensor_train[:, -1]\n",
        "\n",
        "Xtest = combined_tensor_test[:, :-1]\n",
        "Ytest = combined_tensor_test[:, -1]\n",
        "\n",
        "Ytrain = train_df['Class']  # Kolom kelas sebagai target\n",
        "Xtrain = train_df.drop(columns=['Class'])  # Drop kolom kelas dari fitur\n",
        "\n",
        "# Buat objek dataset\n",
        "train_dataset = MyDataset(Xtrain, Ytrain)\n",
        "test_dataset = MyDataset(Xtest, Ytest)"
      ],
      "metadata": {
        "id": "CtFMxouyYAbW"
      },
      "execution_count": 74,
      "outputs": []
    },
    {
      "cell_type": "code",
      "source": [
        "# Gunakan DataLoader untuk batching\n",
        "train_loader = DataLoader(train_dataset, batch_size=32, shuffle=True)\n",
        "test_loader = DataLoader(test_dataset, batch_size=32, shuffle=False)\n"
      ],
      "metadata": {
        "id": "nZovAafCYEN2"
      },
      "execution_count": 75,
      "outputs": []
    },
    {
      "cell_type": "code",
      "source": [
        " # Pembangunan Model\n",
        "class MyModel(nn.Module):\n",
        "    def __init__(self, input_size, output_size):\n",
        "        super(MyModel, self).__init__()\n",
        "        self.layer1 = nn.Linear(input_size, 64)\n",
        "        self.layer2 = nn.Linear(64, 32)\n",
        "        self.layer3 = nn.Linear(32, output_size)\n",
        "\n",
        "    def forward(self, x):\n",
        "        x = F.relu(self.layer1(x))\n",
        "        x = F.relu(self.layer2(x))\n",
        "        return self.layer3(x)  # Output tanpa fungsi aktivasi, cocok untuk regresi"
      ],
      "metadata": {
        "id": "qEE1dKEeYIJW"
      },
      "execution_count": 76,
      "outputs": []
    }
  ],
  "metadata": {
    "colab": {
      "provenance": []
    },
    "kernelspec": {
      "display_name": "Python 3",
      "name": "python3"
    },
    "language_info": {
      "name": "python"
    }
  },
  "nbformat": 4,
  "nbformat_minor": 0
}