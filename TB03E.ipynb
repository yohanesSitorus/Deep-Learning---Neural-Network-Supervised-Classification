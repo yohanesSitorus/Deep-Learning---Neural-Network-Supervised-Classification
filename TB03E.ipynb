{
  "cells": [
    {
      "cell_type": "code",
      "execution_count": 1,
      "metadata": {
        "id": "hbAvfLcH8p__"
      },
      "outputs": [],
      "source": [
        "# Import dependencies & libraries\n",
        "from google.colab import files\n",
        "import pandas as pd\n",
        "from scipy.stats import linregress\n",
        "from sklearn.model_selection import train_test_split\n",
        "from sklearn.preprocessing import StandardScaler\n",
        "import torch\n",
        "import torch.nn as nn\n",
        "import torch.nn.functional as F\n",
        "import torch.optim as optim\n",
        "from torch.utils.data import Dataset, DataLoader\n",
        "from torch.utils.data import random_split"
      ]
    },
    {
      "cell_type": "code",
      "execution_count": 2,
      "metadata": {
        "colab": {
          "base_uri": "https://localhost:8080/",
          "height": 108
        },
        "id": "7p-GC42A-LBo",
        "outputId": "f31057fc-2823-4a8b-cb43-e124e6ecbf2d"
      },
      "outputs": [
        {
          "output_type": "display_data",
          "data": {
            "text/plain": [
              "<IPython.core.display.HTML object>"
            ],
            "text/html": [
              "\n",
              "     <input type=\"file\" id=\"files-446b6da8-3c39-4e05-8cc0-1f1a3c4eed7e\" name=\"files[]\" multiple disabled\n",
              "        style=\"border:none\" />\n",
              "     <output id=\"result-446b6da8-3c39-4e05-8cc0-1f1a3c4eed7e\">\n",
              "      Upload widget is only available when the cell has been executed in the\n",
              "      current browser session. Please rerun this cell to enable.\n",
              "      </output>\n",
              "      <script>// Copyright 2017 Google LLC\n",
              "//\n",
              "// Licensed under the Apache License, Version 2.0 (the \"License\");\n",
              "// you may not use this file except in compliance with the License.\n",
              "// You may obtain a copy of the License at\n",
              "//\n",
              "//      http://www.apache.org/licenses/LICENSE-2.0\n",
              "//\n",
              "// Unless required by applicable law or agreed to in writing, software\n",
              "// distributed under the License is distributed on an \"AS IS\" BASIS,\n",
              "// WITHOUT WARRANTIES OR CONDITIONS OF ANY KIND, either express or implied.\n",
              "// See the License for the specific language governing permissions and\n",
              "// limitations under the License.\n",
              "\n",
              "/**\n",
              " * @fileoverview Helpers for google.colab Python module.\n",
              " */\n",
              "(function(scope) {\n",
              "function span(text, styleAttributes = {}) {\n",
              "  const element = document.createElement('span');\n",
              "  element.textContent = text;\n",
              "  for (const key of Object.keys(styleAttributes)) {\n",
              "    element.style[key] = styleAttributes[key];\n",
              "  }\n",
              "  return element;\n",
              "}\n",
              "\n",
              "// Max number of bytes which will be uploaded at a time.\n",
              "const MAX_PAYLOAD_SIZE = 100 * 1024;\n",
              "\n",
              "function _uploadFiles(inputId, outputId) {\n",
              "  const steps = uploadFilesStep(inputId, outputId);\n",
              "  const outputElement = document.getElementById(outputId);\n",
              "  // Cache steps on the outputElement to make it available for the next call\n",
              "  // to uploadFilesContinue from Python.\n",
              "  outputElement.steps = steps;\n",
              "\n",
              "  return _uploadFilesContinue(outputId);\n",
              "}\n",
              "\n",
              "// This is roughly an async generator (not supported in the browser yet),\n",
              "// where there are multiple asynchronous steps and the Python side is going\n",
              "// to poll for completion of each step.\n",
              "// This uses a Promise to block the python side on completion of each step,\n",
              "// then passes the result of the previous step as the input to the next step.\n",
              "function _uploadFilesContinue(outputId) {\n",
              "  const outputElement = document.getElementById(outputId);\n",
              "  const steps = outputElement.steps;\n",
              "\n",
              "  const next = steps.next(outputElement.lastPromiseValue);\n",
              "  return Promise.resolve(next.value.promise).then((value) => {\n",
              "    // Cache the last promise value to make it available to the next\n",
              "    // step of the generator.\n",
              "    outputElement.lastPromiseValue = value;\n",
              "    return next.value.response;\n",
              "  });\n",
              "}\n",
              "\n",
              "/**\n",
              " * Generator function which is called between each async step of the upload\n",
              " * process.\n",
              " * @param {string} inputId Element ID of the input file picker element.\n",
              " * @param {string} outputId Element ID of the output display.\n",
              " * @return {!Iterable<!Object>} Iterable of next steps.\n",
              " */\n",
              "function* uploadFilesStep(inputId, outputId) {\n",
              "  const inputElement = document.getElementById(inputId);\n",
              "  inputElement.disabled = false;\n",
              "\n",
              "  const outputElement = document.getElementById(outputId);\n",
              "  outputElement.innerHTML = '';\n",
              "\n",
              "  const pickedPromise = new Promise((resolve) => {\n",
              "    inputElement.addEventListener('change', (e) => {\n",
              "      resolve(e.target.files);\n",
              "    });\n",
              "  });\n",
              "\n",
              "  const cancel = document.createElement('button');\n",
              "  inputElement.parentElement.appendChild(cancel);\n",
              "  cancel.textContent = 'Cancel upload';\n",
              "  const cancelPromise = new Promise((resolve) => {\n",
              "    cancel.onclick = () => {\n",
              "      resolve(null);\n",
              "    };\n",
              "  });\n",
              "\n",
              "  // Wait for the user to pick the files.\n",
              "  const files = yield {\n",
              "    promise: Promise.race([pickedPromise, cancelPromise]),\n",
              "    response: {\n",
              "      action: 'starting',\n",
              "    }\n",
              "  };\n",
              "\n",
              "  cancel.remove();\n",
              "\n",
              "  // Disable the input element since further picks are not allowed.\n",
              "  inputElement.disabled = true;\n",
              "\n",
              "  if (!files) {\n",
              "    return {\n",
              "      response: {\n",
              "        action: 'complete',\n",
              "      }\n",
              "    };\n",
              "  }\n",
              "\n",
              "  for (const file of files) {\n",
              "    const li = document.createElement('li');\n",
              "    li.append(span(file.name, {fontWeight: 'bold'}));\n",
              "    li.append(span(\n",
              "        `(${file.type || 'n/a'}) - ${file.size} bytes, ` +\n",
              "        `last modified: ${\n",
              "            file.lastModifiedDate ? file.lastModifiedDate.toLocaleDateString() :\n",
              "                                    'n/a'} - `));\n",
              "    const percent = span('0% done');\n",
              "    li.appendChild(percent);\n",
              "\n",
              "    outputElement.appendChild(li);\n",
              "\n",
              "    const fileDataPromise = new Promise((resolve) => {\n",
              "      const reader = new FileReader();\n",
              "      reader.onload = (e) => {\n",
              "        resolve(e.target.result);\n",
              "      };\n",
              "      reader.readAsArrayBuffer(file);\n",
              "    });\n",
              "    // Wait for the data to be ready.\n",
              "    let fileData = yield {\n",
              "      promise: fileDataPromise,\n",
              "      response: {\n",
              "        action: 'continue',\n",
              "      }\n",
              "    };\n",
              "\n",
              "    // Use a chunked sending to avoid message size limits. See b/62115660.\n",
              "    let position = 0;\n",
              "    do {\n",
              "      const length = Math.min(fileData.byteLength - position, MAX_PAYLOAD_SIZE);\n",
              "      const chunk = new Uint8Array(fileData, position, length);\n",
              "      position += length;\n",
              "\n",
              "      const base64 = btoa(String.fromCharCode.apply(null, chunk));\n",
              "      yield {\n",
              "        response: {\n",
              "          action: 'append',\n",
              "          file: file.name,\n",
              "          data: base64,\n",
              "        },\n",
              "      };\n",
              "\n",
              "      let percentDone = fileData.byteLength === 0 ?\n",
              "          100 :\n",
              "          Math.round((position / fileData.byteLength) * 100);\n",
              "      percent.textContent = `${percentDone}% done`;\n",
              "\n",
              "    } while (position < fileData.byteLength);\n",
              "  }\n",
              "\n",
              "  // All done.\n",
              "  yield {\n",
              "    response: {\n",
              "      action: 'complete',\n",
              "    }\n",
              "  };\n",
              "}\n",
              "\n",
              "scope.google = scope.google || {};\n",
              "scope.google.colab = scope.google.colab || {};\n",
              "scope.google.colab._files = {\n",
              "  _uploadFiles,\n",
              "  _uploadFilesContinue,\n",
              "};\n",
              "})(self);\n",
              "</script> "
            ]
          },
          "metadata": {}
        },
        {
          "output_type": "stream",
          "name": "stdout",
          "text": [
            "Saving test.csv to test.csv\n",
            "Saving train.csv to train.csv\n"
          ]
        }
      ],
      "source": [
        "# Upload file train.csv & test.csv sebelum menjalankan kode berikutnya\n",
        "uploaded = files.upload()"
      ]
    },
    {
      "cell_type": "code",
      "execution_count": 3,
      "metadata": {
        "id": "21oWfFwdwCZz"
      },
      "outputs": [],
      "source": [
        "# Fungsi u/: cleaning dataset\n",
        "def clean_data(df):\n",
        "    # Isi missing value pada kolom Popularity dengan mean\n",
        "    df['Popularity'] = df['Popularity'].fillna(round(df['Popularity'].mean(), 1))\n",
        "\n",
        "    # Hapus kolom dengan missing values\n",
        "    cleaned_df = df.drop([\"instrumentalness\", \"key\"], axis=1)\n",
        "\n",
        "    return cleaned_df"
      ]
    },
    {
      "cell_type": "code",
      "source": [
        "def normalize(df):\n",
        "  # Inisialisasi object StandardScaler()\n",
        "    scaler = StandardScaler()\n",
        "\n",
        "    # Normalisasi langsung pada kolom bertipe float64\n",
        "    df[df.select_dtypes(include=['float64']).columns] = scaler.fit_transform(df.select_dtypes(include=['float64']))\n",
        "\n",
        "    return df\n"
      ],
      "metadata": {
        "id": "kt6eZRMK0VUb"
      },
      "execution_count": 4,
      "outputs": []
    },
    {
      "cell_type": "code",
      "source": [
        "def df_to_tensor(df):\n",
        "    # Konversi semua data numerik ke numpy array dan kemudian ke tensor\n",
        "    df_tensor = torch.tensor(df.select_dtypes(include=['float64', 'int64']).values, dtype=torch.float32)\n",
        "\n",
        "    return df_tensor"
      ],
      "metadata": {
        "id": "ELULZa1A5U80"
      },
      "execution_count": 5,
      "outputs": []
    },
    {
      "cell_type": "code",
      "execution_count": 6,
      "metadata": {
        "id": "FGQqfUjVwCZ1"
      },
      "outputs": [],
      "source": [
        "# Fungsi membagi train set menjadi train & validation set\n",
        "def split_train_validation(df):\n",
        "    # Memisahkan train_df menjadi train_data dan val_data (80% train, 20% validation)\n",
        "    train_df, val_df = train_test_split(df, test_size=0.2, random_state=42, stratify=df['Class'])\n",
        "\n",
        "    # Menampilkan informasi jumlah data\n",
        "    print(\"Jumlah data training:\", len(train_df))\n",
        "    print(\"Jumlah data validation:\", len(val_df))\n",
        "\n",
        "    return train_df, val_df"
      ]
    },
    {
      "cell_type": "code",
      "execution_count": 7,
      "metadata": {
        "colab": {
          "base_uri": "https://localhost:8080/"
        },
        "id": "8v8RGkZF-BiC",
        "outputId": "f5ab59a7-6b4d-42d5-afaa-3aef4e340ec7"
      },
      "outputs": [
        {
          "output_type": "stream",
          "name": "stdout",
          "text": [
            "Artist Name              0\n",
            "Track Name               0\n",
            "Popularity             428\n",
            "danceability             0\n",
            "energy                   0\n",
            "key                   2014\n",
            "loudness                 0\n",
            "mode                     0\n",
            "speechiness              0\n",
            "acousticness             0\n",
            "instrumentalness      4377\n",
            "liveness                 0\n",
            "valence                  0\n",
            "tempo                    0\n",
            "duration_in min/ms       0\n",
            "time_signature           0\n",
            "Class                    0\n",
            "dtype: int64\n",
            "Kolom pada training set dengan missing values:\n",
            "Popularity           428\n",
            "key                 2014\n",
            "instrumentalness    4377\n",
            "dtype: int64\n",
            "Artist Name              0\n",
            "Track Name               0\n",
            "Popularity             227\n",
            "danceability             0\n",
            "energy                   0\n",
            "key                    808\n",
            "loudness                 0\n",
            "mode                     0\n",
            "speechiness              0\n",
            "acousticness             0\n",
            "instrumentalness      1909\n",
            "liveness                 0\n",
            "valence                  0\n",
            "tempo                    0\n",
            "duration_in min/ms       0\n",
            "time_signature           0\n",
            "dtype: int64\n",
            "Kolom pada test set dengan missing values:\n",
            "Popularity           227\n",
            "key                  808\n",
            "instrumentalness    1909\n",
            "dtype: int64\n",
            "Jumlah data training: 14396\n",
            "Jumlah data validation: 3600\n"
          ]
        }
      ],
      "source": [
        "\n",
        "# Load data\n",
        "train_df = pd.read_csv('train.csv')\n",
        "test_df= pd.read_csv('test.csv')\n",
        "\n",
        "# ----------------!!!-----------------------\n",
        "# Hitung jumlah missing value per kolom\n",
        "missing_values_train = train_df.isna().sum()\n",
        "\n",
        "# Tampilkan jumlah missing value\n",
        "print(missing_values_train)\n",
        "\n",
        "# Jika ingin melihat hanya kolom yang memiliki missing value\n",
        "missing_values_train = missing_values_train[missing_values_train > 0]\n",
        "print(\"Kolom pada training set dengan missing values:\")\n",
        "print(missing_values_train)\n",
        "\n",
        "# ----------------!!!-----------------------\n",
        "# Hitung jumlah missing value per kolom\n",
        "missing_values_test = test_df.isna().sum()\n",
        "\n",
        "# Tampilkan jumlah missing value\n",
        "print(missing_values_test)\n",
        "\n",
        "# Jika ingin melihat hanya kolom yang memiliki missing value\n",
        "missing_values_test = missing_values_test[missing_values_test > 0]\n",
        "print(\"Kolom pada test set dengan missing values:\")\n",
        "print(missing_values_test)\n",
        "\n",
        "# Bersihkan dataset\n",
        "cleaned_train_df = clean_data(train_df)\n",
        "cleaned_test_df = clean_data(test_df)\n",
        "\n",
        "# Simpan dataset\n",
        "cleaned_train_df.to_csv('train_cleaned.csv', index=False)\n",
        "cleaned_test_df.to_csv('test_cleaned.csv', index=False)\n",
        "\n",
        "# Normalisasi dataset\n",
        "cleaned_trained_df = normalize(cleaned_train_df)\n",
        "cleaned_test_df = normalize(cleaned_test_df)\n",
        "\n",
        "# Bagi train set menjadi train & validation set\n",
        "train_df, val_df = split_train_validation(cleaned_train_df)\n",
        "\n",
        "# Tranformasi train, validation, & test set menjadi tensor\n",
        "train_tensor = df_to_tensor(train_df)\n",
        "val_tensor = df_to_tensor(val_df)\n",
        "test_tensor = df_to_tensor(cleaned_test_df)"
      ]
    },
    {
      "cell_type": "code",
      "source": [
        "print(train_tensor)\n",
        "print(val_tensor)\n",
        "print(test_tensor)"
      ],
      "metadata": {
        "colab": {
          "base_uri": "https://localhost:8080/"
        },
        "id": "77F6-uGpxGYt",
        "outputId": "bf334a6e-876c-4670-cd84-acfa8e34a8d5"
      },
      "execution_count": 8,
      "outputs": [
        {
          "output_type": "stream",
          "name": "stdout",
          "text": [
            "tensor([[ 1.8869,  1.3868, -1.0655,  ..., -0.7500,  4.0000,  5.0000],\n",
            "        [-1.4236, -0.1109,  0.5405,  ..., -0.2458,  4.0000, 10.0000],\n",
            "        [-0.0297,  0.3763, -0.7978,  ..., -0.5143,  4.0000, 10.0000],\n",
            "        ...,\n",
            "        [ 0.6672, -0.0567, -0.2837,  ...,  0.1261,  4.0000,  5.0000],\n",
            "        [-1.4236,  0.4304, -0.8403,  ..., -1.7926,  4.0000,  3.0000],\n",
            "        [-0.3782,  2.2168,  0.3536,  ..., -0.6870,  4.0000,  5.0000]])\n",
            "tensor([[-0.7848,  0.4966, -0.3559,  ..., -1.7925,  4.0000,  3.0000],\n",
            "        [-0.9590,  0.0455, -0.9465,  ..., -0.3146,  4.0000,  6.0000],\n",
            "        [ 0.3187, -0.0206,  1.2586,  ..., -0.0762,  4.0000,  8.0000],\n",
            "        ...,\n",
            "        [-0.4363,  0.1297, -0.5131,  ...,  2.8993,  4.0000, 10.0000],\n",
            "        [-0.9590, -1.3859,  0.9654,  ...,  0.1420,  4.0000, 10.0000],\n",
            "        [-0.3201, -0.1289,  1.2925,  ...,  0.6345,  4.0000,  8.0000]])\n",
            "tensor([[ 1.6352e+00, -1.4440e+00, -1.1093e+00,  ...,  3.8704e-01,\n",
            "          1.0486e+00,  4.0000e+00],\n",
            "        [-6.3987e-01, -2.2505e-01,  1.2416e+00,  ...,  9.7439e-01,\n",
            "          1.8557e-01,  4.0000e+00],\n",
            "        [ 1.9268e+00,  9.2113e-01,  1.9392e-01,  ..., -3.2221e-02,\n",
            "          3.1259e-02,  4.0000e+00],\n",
            "        ...,\n",
            "        [-4.0653e-01,  1.5579e+00,  1.0287e+00,  ...,  4.1207e-01,\n",
            "         -1.7632e+00,  4.0000e+00],\n",
            "        [ 3.5181e-01,  1.5336e+00,  1.1351e+00,  ...,  3.4582e-01,\n",
            "          1.9359e-01,  4.0000e+00],\n",
            "        [ 1.8076e-03,  4.9662e-01,  8.6682e-01,  ...,  1.1117e+00,\n",
            "          4.3984e-03,  4.0000e+00]])\n"
          ]
        }
      ]
    },
    {
      "cell_type": "code",
      "execution_count": null,
      "metadata": {
        "colab": {
          "base_uri": "https://localhost:8080/",
          "height": 17
        },
        "id": "ftMS6EGckZPP",
        "outputId": "0aebe521-20c8-41e3-9419-77da1e48f93b"
      },
      "outputs": [
        {
          "data": {
            "application/javascript": "\n    async function download(id, filename, size) {\n      if (!google.colab.kernel.accessAllowed) {\n        return;\n      }\n      const div = document.createElement('div');\n      const label = document.createElement('label');\n      label.textContent = `Downloading \"${filename}\": `;\n      div.appendChild(label);\n      const progress = document.createElement('progress');\n      progress.max = size;\n      div.appendChild(progress);\n      document.body.appendChild(div);\n\n      const buffers = [];\n      let downloaded = 0;\n\n      const channel = await google.colab.kernel.comms.open(id);\n      // Send a message to notify the kernel that we're ready.\n      channel.send({})\n\n      for await (const message of channel.messages) {\n        // Send a message to notify the kernel that we're ready.\n        channel.send({})\n        if (message.buffers) {\n          for (const buffer of message.buffers) {\n            buffers.push(buffer);\n            downloaded += buffer.byteLength;\n            progress.value = downloaded;\n          }\n        }\n      }\n      const blob = new Blob(buffers, {type: 'application/binary'});\n      const a = document.createElement('a');\n      a.href = window.URL.createObjectURL(blob);\n      a.download = filename;\n      div.appendChild(a);\n      a.click();\n      div.remove();\n    }\n  ",
            "text/plain": [
              "<IPython.core.display.Javascript object>"
            ]
          },
          "metadata": {},
          "output_type": "display_data"
        },
        {
          "data": {
            "application/javascript": "download(\"download_9f11d437-b4f0-4004-95ed-b1db440eab37\", \"train_cleaned.csv\", 1907995)",
            "text/plain": [
              "<IPython.core.display.Javascript object>"
            ]
          },
          "metadata": {},
          "output_type": "display_data"
        },
        {
          "data": {
            "application/javascript": "\n    async function download(id, filename, size) {\n      if (!google.colab.kernel.accessAllowed) {\n        return;\n      }\n      const div = document.createElement('div');\n      const label = document.createElement('label');\n      label.textContent = `Downloading \"${filename}\": `;\n      div.appendChild(label);\n      const progress = document.createElement('progress');\n      progress.max = size;\n      div.appendChild(progress);\n      document.body.appendChild(div);\n\n      const buffers = [];\n      let downloaded = 0;\n\n      const channel = await google.colab.kernel.comms.open(id);\n      // Send a message to notify the kernel that we're ready.\n      channel.send({})\n\n      for await (const message of channel.messages) {\n        // Send a message to notify the kernel that we're ready.\n        channel.send({})\n        if (message.buffers) {\n          for (const buffer of message.buffers) {\n            buffers.push(buffer);\n            downloaded += buffer.byteLength;\n            progress.value = downloaded;\n          }\n        }\n      }\n      const blob = new Blob(buffers, {type: 'application/binary'});\n      const a = document.createElement('a');\n      a.href = window.URL.createObjectURL(blob);\n      a.download = filename;\n      div.appendChild(a);\n      a.click();\n      div.remove();\n    }\n  ",
            "text/plain": [
              "<IPython.core.display.Javascript object>"
            ]
          },
          "metadata": {},
          "output_type": "display_data"
        },
        {
          "data": {
            "application/javascript": "download(\"download_1bc4fe9f-76e6-45c1-bac7-876edbea980f\", \"test_cleaned.csv\", 796890)",
            "text/plain": [
              "<IPython.core.display.Javascript object>"
            ]
          },
          "metadata": {},
          "output_type": "display_data"
        }
      ],
      "source": [
        "# (Optional) download file csv yg sudah dibersihkan\n",
        "files.download(\"train_cleaned.csv\")\n",
        "files.download(\"test_cleaned.csv\")"
      ]
    },
    {
      "cell_type": "code",
      "execution_count": 16,
      "metadata": {
        "id": "CtFMxouyYAbW"
      },
      "outputs": [],
      "source": [
        "# Definisi kelas Dataset\n",
        "class MyDataset(Dataset):\n",
        "    def __init__(self, X, Y):\n",
        "        self.X = X  # Fitur\n",
        "        self.Y = Y  # Label/target\n",
        "\n",
        "    def __len__(self):\n",
        "        return self.X.shape[0]\n",
        "\n",
        "    def __getitem__(self, idx):\n",
        "        return self.X[idx], self.Y[idx]\n",
        "\n",
        "# Pisahkan fitur (X) dan label (Y)\n",
        "Xtrain = train_tensor[:, :-1]\n",
        "Ytrain = train_tensor[:, -1]\n",
        "\n",
        "Xval = val_tensor[:, :-1]\n",
        "Yval = val_tensor[:, -1]\n",
        "\n",
        "Xtest = test_tensor[:, :-1]\n",
        "Ytest = test_tensor[:, -1]\n",
        "\n",
        "# Ytrain = train_df['Class']  # Kolom kelas sebagai target\n",
        "# Xtrain = train_df.drop(columns=['Class'])  # Drop kolom kelas dari fitur\n",
        "\n",
        "# Buat objek dataset\n",
        "train_set = MyDataset(Xtrain, Ytrain)\n",
        "val_set = MyDataset(Xval, Yval)\n",
        "test_set = MyDataset(Xtest, Ytest)"
      ]
    },
    {
      "cell_type": "code",
      "execution_count": 18,
      "metadata": {
        "id": "nZovAafCYEN2"
      },
      "outputs": [],
      "source": [
        "# Gunakan DataLoader untuk batching\n",
        "train_loader = DataLoader(train_set, batch_size=32, shuffle=True)\n",
        "val_loader = DataLoader(val_set, batch_size=32, shuffle=True)\n",
        "test_loader = DataLoader(test_set, batch_size=32, shuffle=False)\n"
      ]
    },
    {
      "cell_type": "code",
      "execution_count": 21,
      "metadata": {
        "id": "qEE1dKEeYIJW"
      },
      "outputs": [],
      "source": [
        " # Pembangunan Model\n",
        "class MyModel(nn.Module):\n",
        "    def __init__(self, input_size, output_size):\n",
        "        super(MyModel, self).__init__()\n",
        "        self.layer1 = nn.Linear(input_size, 64)\n",
        "        self.layer2 = nn.Linear(64, 32)\n",
        "        self.layer3 = nn.Linear(32, 16)\n",
        "        self.layer4 = nn.Linear(16, output_size)\n",
        "\n",
        "        # Inisialisasi bobot menggunakan He untuk layer 1-3\n",
        "        nn.init.kaiming_normal_(self.layer1.weight, nonlinearity='relu')\n",
        "        nn.init.kaiming_normal_(self.layer2.weight, nonlinearity='relu')\n",
        "        nn.init.kaiming_normal_(self.layer3.weight, nonlinearity='relu')\n",
        "\n",
        "        # Inisialisasi bobot menggunakan Xavier untuk layer 4\n",
        "        nn.init.xavier_normal_(self.layer4.weight)\n",
        "\n",
        "        # Inisialisasi bias dengan nol\n",
        "        nn.init.zeros_(self.layer1.bias)\n",
        "        nn.init.zeros_(self.layer2.bias)\n",
        "        nn.init.zeros_(self.layer3.bias)\n",
        "        nn.init.zeros_(self.layer4.bias)\n",
        "\n",
        "    def forward(self, x):\n",
        "        x = F.relu(self.layer1(x))\n",
        "        x = F.relu(self.layer2(x))\n",
        "        x = F.relu(self.layer3(x))\n",
        "        return torch.sigmoid(self.layer4(x)) # Output tanpa fungsi aktivasi, cocok untuk regresi\n",
        "\n",
        "# print(len(torch.unique(Ytrain)))\n",
        "\n",
        "# Inisialisasi model dan optimizer\n",
        "model = MyModel(Xtrain.shape[1], len(torch.unique(Ytrain)))\n",
        "optimizer = optim.SGD(model.parameters(), lr=0.001)"
      ]
    },
    {
      "cell_type": "code",
      "execution_count": 22,
      "metadata": {
        "id": "33MlhcnKwCZ6",
        "colab": {
          "base_uri": "https://localhost:8080/",
          "height": 411
        },
        "outputId": "df79bb13-1595-4da6-9cdf-75296cf86bcf"
      },
      "outputs": [
        {
          "output_type": "stream",
          "name": "stderr",
          "text": [
            "<ipython-input-22-03a237ceba10>:9: UserWarning: Using a target size (torch.Size([32])) that is different to the input size (torch.Size([32, 11])). This will likely lead to incorrect results due to broadcasting. Please ensure they have the same size.\n",
            "  loss = F.mse_loss(yt, y)\n"
          ]
        },
        {
          "output_type": "error",
          "ename": "RuntimeError",
          "evalue": "The size of tensor a (11) must match the size of tensor b (32) at non-singleton dimension 1",
          "traceback": [
            "\u001b[0;31m---------------------------------------------------------------------------\u001b[0m",
            "\u001b[0;31mRuntimeError\u001b[0m                              Traceback (most recent call last)",
            "\u001b[0;32m<ipython-input-22-03a237ceba10>\u001b[0m in \u001b[0;36m<cell line: 2>\u001b[0;34m()\u001b[0m\n\u001b[1;32m      7\u001b[0m     \u001b[0moptimizer\u001b[0m\u001b[0;34m.\u001b[0m\u001b[0mzero_grad\u001b[0m\u001b[0;34m(\u001b[0m\u001b[0;34m)\u001b[0m\u001b[0;34m\u001b[0m\u001b[0;34m\u001b[0m\u001b[0m\n\u001b[1;32m      8\u001b[0m     \u001b[0myt\u001b[0m \u001b[0;34m=\u001b[0m \u001b[0mmodel\u001b[0m\u001b[0;34m(\u001b[0m\u001b[0mx\u001b[0m\u001b[0;34m)\u001b[0m\u001b[0;34m\u001b[0m\u001b[0;34m\u001b[0m\u001b[0m\n\u001b[0;32m----> 9\u001b[0;31m     \u001b[0mloss\u001b[0m \u001b[0;34m=\u001b[0m \u001b[0mF\u001b[0m\u001b[0;34m.\u001b[0m\u001b[0mmse_loss\u001b[0m\u001b[0;34m(\u001b[0m\u001b[0myt\u001b[0m\u001b[0;34m,\u001b[0m \u001b[0my\u001b[0m\u001b[0;34m)\u001b[0m\u001b[0;34m\u001b[0m\u001b[0;34m\u001b[0m\u001b[0m\n\u001b[0m\u001b[1;32m     10\u001b[0m     \u001b[0;32mwith\u001b[0m \u001b[0mtorch\u001b[0m\u001b[0;34m.\u001b[0m\u001b[0mno_grad\u001b[0m\u001b[0;34m(\u001b[0m\u001b[0;34m)\u001b[0m\u001b[0;34m:\u001b[0m\u001b[0;34m\u001b[0m\u001b[0;34m\u001b[0m\u001b[0m\n\u001b[1;32m     11\u001b[0m       \u001b[0msum_loss\u001b[0m \u001b[0;34m+=\u001b[0m \u001b[0mloss\u001b[0m\u001b[0;34m\u001b[0m\u001b[0;34m\u001b[0m\u001b[0m\n",
            "\u001b[0;32m/usr/local/lib/python3.10/dist-packages/torch/nn/functional.py\u001b[0m in \u001b[0;36mmse_loss\u001b[0;34m(input, target, size_average, reduce, reduction)\u001b[0m\n\u001b[1;32m   3789\u001b[0m         \u001b[0mreduction\u001b[0m \u001b[0;34m=\u001b[0m \u001b[0m_Reduction\u001b[0m\u001b[0;34m.\u001b[0m\u001b[0mlegacy_get_string\u001b[0m\u001b[0;34m(\u001b[0m\u001b[0msize_average\u001b[0m\u001b[0;34m,\u001b[0m \u001b[0mreduce\u001b[0m\u001b[0;34m)\u001b[0m\u001b[0;34m\u001b[0m\u001b[0;34m\u001b[0m\u001b[0m\n\u001b[1;32m   3790\u001b[0m \u001b[0;34m\u001b[0m\u001b[0m\n\u001b[0;32m-> 3791\u001b[0;31m     \u001b[0mexpanded_input\u001b[0m\u001b[0;34m,\u001b[0m \u001b[0mexpanded_target\u001b[0m \u001b[0;34m=\u001b[0m \u001b[0mtorch\u001b[0m\u001b[0;34m.\u001b[0m\u001b[0mbroadcast_tensors\u001b[0m\u001b[0;34m(\u001b[0m\u001b[0minput\u001b[0m\u001b[0;34m,\u001b[0m \u001b[0mtarget\u001b[0m\u001b[0;34m)\u001b[0m\u001b[0;34m\u001b[0m\u001b[0;34m\u001b[0m\u001b[0m\n\u001b[0m\u001b[1;32m   3792\u001b[0m     return torch._C._nn.mse_loss(\n\u001b[1;32m   3793\u001b[0m         \u001b[0mexpanded_input\u001b[0m\u001b[0;34m,\u001b[0m \u001b[0mexpanded_target\u001b[0m\u001b[0;34m,\u001b[0m \u001b[0m_Reduction\u001b[0m\u001b[0;34m.\u001b[0m\u001b[0mget_enum\u001b[0m\u001b[0;34m(\u001b[0m\u001b[0mreduction\u001b[0m\u001b[0;34m)\u001b[0m\u001b[0;34m\u001b[0m\u001b[0;34m\u001b[0m\u001b[0m\n",
            "\u001b[0;32m/usr/local/lib/python3.10/dist-packages/torch/functional.py\u001b[0m in \u001b[0;36mbroadcast_tensors\u001b[0;34m(*tensors)\u001b[0m\n\u001b[1;32m     74\u001b[0m     \u001b[0;32mif\u001b[0m \u001b[0mhas_torch_function\u001b[0m\u001b[0;34m(\u001b[0m\u001b[0mtensors\u001b[0m\u001b[0;34m)\u001b[0m\u001b[0;34m:\u001b[0m\u001b[0;34m\u001b[0m\u001b[0;34m\u001b[0m\u001b[0m\n\u001b[1;32m     75\u001b[0m         \u001b[0;32mreturn\u001b[0m \u001b[0mhandle_torch_function\u001b[0m\u001b[0;34m(\u001b[0m\u001b[0mbroadcast_tensors\u001b[0m\u001b[0;34m,\u001b[0m \u001b[0mtensors\u001b[0m\u001b[0;34m,\u001b[0m \u001b[0;34m*\u001b[0m\u001b[0mtensors\u001b[0m\u001b[0;34m)\u001b[0m\u001b[0;34m\u001b[0m\u001b[0;34m\u001b[0m\u001b[0m\n\u001b[0;32m---> 76\u001b[0;31m     \u001b[0;32mreturn\u001b[0m \u001b[0m_VF\u001b[0m\u001b[0;34m.\u001b[0m\u001b[0mbroadcast_tensors\u001b[0m\u001b[0;34m(\u001b[0m\u001b[0mtensors\u001b[0m\u001b[0;34m)\u001b[0m  \u001b[0;31m# type: ignore[attr-defined]\u001b[0m\u001b[0;34m\u001b[0m\u001b[0;34m\u001b[0m\u001b[0m\n\u001b[0m\u001b[1;32m     77\u001b[0m \u001b[0;34m\u001b[0m\u001b[0m\n\u001b[1;32m     78\u001b[0m \u001b[0;34m\u001b[0m\u001b[0m\n",
            "\u001b[0;31mRuntimeError\u001b[0m: The size of tensor a (11) must match the size of tensor b (32) at non-singleton dimension 1"
          ]
        }
      ],
      "source": [
        "\n",
        "epoch = 3\n",
        "for ei in range(epoch):\n",
        "  sum_loss = 0.0\n",
        "\n",
        "  # Klasifikasi, SGD Step, perhitungan loss, & MSE pada data training\n",
        "  for x, y in train_loader:\n",
        "    optimizer.zero_grad()\n",
        "    yt = model(x)\n",
        "    loss = F.mse_loss(yt, y)\n",
        "    with torch.no_grad():\n",
        "      sum_loss += loss\n",
        "    loss.backward()\n",
        "    optimizer.step()\n",
        "\n",
        "  with torch.no_grad():\n",
        "    ncorrect = 0\n",
        "    avg_loss = sum_loss / Xtrain.shape[0]\n",
        "    for x, y in valloader:\n",
        "      yt = model(x)\n",
        "      lt = torch.argmax(yt, dim=1) # kelas hasil prediksi\n",
        "      ll = torch.argmax(y, dim=1) # kelas hasil dari label\n",
        "      for i in range(lt.shape[0]):\n",
        "        if ll[i] == lt[i]:\n",
        "          ncorrect += 1\n",
        "    avg_val_acc = ncorrect / Xval.shape[0] * 100.0\n",
        "    print(f'Epoch={ei + 1} Avg Loss={avg_loss} Avg Val Acc={avg_val_acc} \\n')\n"
      ]
    },
    {
      "cell_type": "code",
      "execution_count": null,
      "metadata": {
        "id": "a2QHDcqwwCZ7"
      },
      "outputs": [],
      "source": []
    }
  ],
  "metadata": {
    "colab": {
      "provenance": []
    },
    "kernelspec": {
      "display_name": "Python 3",
      "name": "python3"
    },
    "language_info": {
      "name": "python"
    }
  },
  "nbformat": 4,
  "nbformat_minor": 0
}