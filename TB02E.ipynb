{
  "nbformat": 4,
  "nbformat_minor": 0,
  "metadata": {
    "colab": {
      "provenance": []
    },
    "kernelspec": {
      "name": "python3",
      "display_name": "Python 3"
    },
    "language_info": {
      "name": "python"
    }
  },
  "cells": [
    {
      "cell_type": "code",
      "execution_count": 1,
      "metadata": {
        "id": "hbAvfLcH8p__"
      },
      "outputs": [],
      "source": [
        "# Import dependencies & libraries\n",
        "from google.colab import files\n",
        "import pandas as pd\n",
        "from scipy.stats import linregress\n",
        "from sklearn.preprocessing import StandardScaler\n",
        "import torch\n"
      ]
    },
    {
      "cell_type": "code",
      "source": [
        "# Upload file train.csv & test.csv sebelum menjalankan kode berikutnya\n",
        "uploaded = files.upload()"
      ],
      "metadata": {
        "id": "7p-GC42A-LBo",
        "colab": {
          "base_uri": "https://localhost:8080/",
          "height": 108
        },
        "outputId": "54bbb289-6a47-49d6-fb17-e5447b46b62a"
      },
      "execution_count": 2,
      "outputs": [
        {
          "output_type": "display_data",
          "data": {
            "text/plain": [
              "<IPython.core.display.HTML object>"
            ],
            "text/html": [
              "\n",
              "     <input type=\"file\" id=\"files-0fc8e5fe-5659-4ecf-a0a4-3e6b1df72a46\" name=\"files[]\" multiple disabled\n",
              "        style=\"border:none\" />\n",
              "     <output id=\"result-0fc8e5fe-5659-4ecf-a0a4-3e6b1df72a46\">\n",
              "      Upload widget is only available when the cell has been executed in the\n",
              "      current browser session. Please rerun this cell to enable.\n",
              "      </output>\n",
              "      <script>// Copyright 2017 Google LLC\n",
              "//\n",
              "// Licensed under the Apache License, Version 2.0 (the \"License\");\n",
              "// you may not use this file except in compliance with the License.\n",
              "// You may obtain a copy of the License at\n",
              "//\n",
              "//      http://www.apache.org/licenses/LICENSE-2.0\n",
              "//\n",
              "// Unless required by applicable law or agreed to in writing, software\n",
              "// distributed under the License is distributed on an \"AS IS\" BASIS,\n",
              "// WITHOUT WARRANTIES OR CONDITIONS OF ANY KIND, either express or implied.\n",
              "// See the License for the specific language governing permissions and\n",
              "// limitations under the License.\n",
              "\n",
              "/**\n",
              " * @fileoverview Helpers for google.colab Python module.\n",
              " */\n",
              "(function(scope) {\n",
              "function span(text, styleAttributes = {}) {\n",
              "  const element = document.createElement('span');\n",
              "  element.textContent = text;\n",
              "  for (const key of Object.keys(styleAttributes)) {\n",
              "    element.style[key] = styleAttributes[key];\n",
              "  }\n",
              "  return element;\n",
              "}\n",
              "\n",
              "// Max number of bytes which will be uploaded at a time.\n",
              "const MAX_PAYLOAD_SIZE = 100 * 1024;\n",
              "\n",
              "function _uploadFiles(inputId, outputId) {\n",
              "  const steps = uploadFilesStep(inputId, outputId);\n",
              "  const outputElement = document.getElementById(outputId);\n",
              "  // Cache steps on the outputElement to make it available for the next call\n",
              "  // to uploadFilesContinue from Python.\n",
              "  outputElement.steps = steps;\n",
              "\n",
              "  return _uploadFilesContinue(outputId);\n",
              "}\n",
              "\n",
              "// This is roughly an async generator (not supported in the browser yet),\n",
              "// where there are multiple asynchronous steps and the Python side is going\n",
              "// to poll for completion of each step.\n",
              "// This uses a Promise to block the python side on completion of each step,\n",
              "// then passes the result of the previous step as the input to the next step.\n",
              "function _uploadFilesContinue(outputId) {\n",
              "  const outputElement = document.getElementById(outputId);\n",
              "  const steps = outputElement.steps;\n",
              "\n",
              "  const next = steps.next(outputElement.lastPromiseValue);\n",
              "  return Promise.resolve(next.value.promise).then((value) => {\n",
              "    // Cache the last promise value to make it available to the next\n",
              "    // step of the generator.\n",
              "    outputElement.lastPromiseValue = value;\n",
              "    return next.value.response;\n",
              "  });\n",
              "}\n",
              "\n",
              "/**\n",
              " * Generator function which is called between each async step of the upload\n",
              " * process.\n",
              " * @param {string} inputId Element ID of the input file picker element.\n",
              " * @param {string} outputId Element ID of the output display.\n",
              " * @return {!Iterable<!Object>} Iterable of next steps.\n",
              " */\n",
              "function* uploadFilesStep(inputId, outputId) {\n",
              "  const inputElement = document.getElementById(inputId);\n",
              "  inputElement.disabled = false;\n",
              "\n",
              "  const outputElement = document.getElementById(outputId);\n",
              "  outputElement.innerHTML = '';\n",
              "\n",
              "  const pickedPromise = new Promise((resolve) => {\n",
              "    inputElement.addEventListener('change', (e) => {\n",
              "      resolve(e.target.files);\n",
              "    });\n",
              "  });\n",
              "\n",
              "  const cancel = document.createElement('button');\n",
              "  inputElement.parentElement.appendChild(cancel);\n",
              "  cancel.textContent = 'Cancel upload';\n",
              "  const cancelPromise = new Promise((resolve) => {\n",
              "    cancel.onclick = () => {\n",
              "      resolve(null);\n",
              "    };\n",
              "  });\n",
              "\n",
              "  // Wait for the user to pick the files.\n",
              "  const files = yield {\n",
              "    promise: Promise.race([pickedPromise, cancelPromise]),\n",
              "    response: {\n",
              "      action: 'starting',\n",
              "    }\n",
              "  };\n",
              "\n",
              "  cancel.remove();\n",
              "\n",
              "  // Disable the input element since further picks are not allowed.\n",
              "  inputElement.disabled = true;\n",
              "\n",
              "  if (!files) {\n",
              "    return {\n",
              "      response: {\n",
              "        action: 'complete',\n",
              "      }\n",
              "    };\n",
              "  }\n",
              "\n",
              "  for (const file of files) {\n",
              "    const li = document.createElement('li');\n",
              "    li.append(span(file.name, {fontWeight: 'bold'}));\n",
              "    li.append(span(\n",
              "        `(${file.type || 'n/a'}) - ${file.size} bytes, ` +\n",
              "        `last modified: ${\n",
              "            file.lastModifiedDate ? file.lastModifiedDate.toLocaleDateString() :\n",
              "                                    'n/a'} - `));\n",
              "    const percent = span('0% done');\n",
              "    li.appendChild(percent);\n",
              "\n",
              "    outputElement.appendChild(li);\n",
              "\n",
              "    const fileDataPromise = new Promise((resolve) => {\n",
              "      const reader = new FileReader();\n",
              "      reader.onload = (e) => {\n",
              "        resolve(e.target.result);\n",
              "      };\n",
              "      reader.readAsArrayBuffer(file);\n",
              "    });\n",
              "    // Wait for the data to be ready.\n",
              "    let fileData = yield {\n",
              "      promise: fileDataPromise,\n",
              "      response: {\n",
              "        action: 'continue',\n",
              "      }\n",
              "    };\n",
              "\n",
              "    // Use a chunked sending to avoid message size limits. See b/62115660.\n",
              "    let position = 0;\n",
              "    do {\n",
              "      const length = Math.min(fileData.byteLength - position, MAX_PAYLOAD_SIZE);\n",
              "      const chunk = new Uint8Array(fileData, position, length);\n",
              "      position += length;\n",
              "\n",
              "      const base64 = btoa(String.fromCharCode.apply(null, chunk));\n",
              "      yield {\n",
              "        response: {\n",
              "          action: 'append',\n",
              "          file: file.name,\n",
              "          data: base64,\n",
              "        },\n",
              "      };\n",
              "\n",
              "      let percentDone = fileData.byteLength === 0 ?\n",
              "          100 :\n",
              "          Math.round((position / fileData.byteLength) * 100);\n",
              "      percent.textContent = `${percentDone}% done`;\n",
              "\n",
              "    } while (position < fileData.byteLength);\n",
              "  }\n",
              "\n",
              "  // All done.\n",
              "  yield {\n",
              "    response: {\n",
              "      action: 'complete',\n",
              "    }\n",
              "  };\n",
              "}\n",
              "\n",
              "scope.google = scope.google || {};\n",
              "scope.google.colab = scope.google.colab || {};\n",
              "scope.google.colab._files = {\n",
              "  _uploadFiles,\n",
              "  _uploadFilesContinue,\n",
              "};\n",
              "})(self);\n",
              "</script> "
            ]
          },
          "metadata": {}
        },
        {
          "output_type": "stream",
          "name": "stdout",
          "text": [
            "Saving test.csv to test.csv\n",
            "Saving train.csv to train.csv\n"
          ]
        }
      ]
    },
    {
      "cell_type": "code",
      "source": [
        "#Cleaning starts here\n",
        "\"\"\"\n",
        "dataset cleaned : missing values kolom popularity diisikan mean,\n",
        "kolom instrumentalness dan key diisi dengan prediksi berdasarkan korelasi\n",
        "dengan variabel lain menggunakan KNN Imputation.\n",
        "\"\"\"\n",
        "\n",
        "# Load data\n",
        "train_df = pd.read_csv('train.csv')\n",
        "test_df= pd.read_csv('test.csv')\n",
        "\n",
        "# ----------------!!!-----------------------\n",
        "# Hitung jumlah missing value per kolom\n",
        "missing_values_train = train_df.isna().sum()\n",
        "\n",
        "# Tampilkan jumlah missing value\n",
        "print(missing_values_train)\n",
        "\n",
        "# Jika ingin melihat hanya kolom yang memiliki missing value\n",
        "missing_values_train = missing_values_train[missing_values_train > 0]\n",
        "print(\"Kolom pada training set dengan missing values:\")\n",
        "print(missing_values_train)\n",
        "\n",
        "# ----------------!!!-----------------------\n",
        "# Hitung jumlah missing value per kolom\n",
        "missing_values_test = test_df.isna().sum()\n",
        "\n",
        "# Tampilkan jumlah missing value\n",
        "print(missing_values_test)\n",
        "\n",
        "# Jika ingin melihat hanya kolom yang memiliki missing value\n",
        "missing_values_test = missing_values_test[missing_values_test > 0]\n",
        "print(\"Kolom pada test set dengan missing values:\")\n",
        "print(missing_values_test)\n",
        "\n",
        "# Hapus kolom 'dengan missing values\n",
        "cleaned_train_df = train_df.drop([\"Popularity\", \"instrumentalness\", \"key\"], axis=1)\n",
        "cleaned_test_df = test_df.drop([\"Popularity\", \"instrumentalness\", \"key\"], axis=1)\n",
        "\n",
        "# Simpan dataset\n",
        "cleaned_train_df.to_csv('train_cleaned.csv', index=False)\n",
        "cleaned_test_df.to_csv('test_cleaned.csv', index=False)"
      ],
      "metadata": {
        "id": "8v8RGkZF-BiC",
        "colab": {
          "base_uri": "https://localhost:8080/"
        },
        "outputId": "7585d233-9e0b-40d5-8508-8fbef5dc73fd"
      },
      "execution_count": 12,
      "outputs": [
        {
          "output_type": "stream",
          "name": "stdout",
          "text": [
            "Artist Name              0\n",
            "Track Name               0\n",
            "Popularity             428\n",
            "danceability             0\n",
            "energy                   0\n",
            "key                   2014\n",
            "loudness                 0\n",
            "mode                     0\n",
            "speechiness              0\n",
            "acousticness             0\n",
            "instrumentalness      4377\n",
            "liveness                 0\n",
            "valence                  0\n",
            "tempo                    0\n",
            "duration_in min/ms       0\n",
            "time_signature           0\n",
            "Class                    0\n",
            "dtype: int64\n",
            "Kolom pada training set dengan missing values:\n",
            "Popularity           428\n",
            "key                 2014\n",
            "instrumentalness    4377\n",
            "dtype: int64\n",
            "Artist Name              0\n",
            "Track Name               0\n",
            "Popularity             227\n",
            "danceability             0\n",
            "energy                   0\n",
            "key                    808\n",
            "loudness                 0\n",
            "mode                     0\n",
            "speechiness              0\n",
            "acousticness             0\n",
            "instrumentalness      1909\n",
            "liveness                 0\n",
            "valence                  0\n",
            "tempo                    0\n",
            "duration_in min/ms       0\n",
            "time_signature           0\n",
            "dtype: int64\n",
            "Kolom pada test set dengan missing values:\n",
            "Popularity           227\n",
            "key                  808\n",
            "instrumentalness    1909\n",
            "dtype: int64\n"
          ]
        }
      ]
    },
    {
      "cell_type": "code",
      "source": [
        "# (Optional) download file csv yg sudah dibersihkan\n",
        "files.download(\"train_cleaned.csv\")\n",
        "files.download(\"test_cleaned.csv\")"
      ],
      "metadata": {
        "id": "ftMS6EGckZPP",
        "colab": {
          "base_uri": "https://localhost:8080/",
          "height": 17
        },
        "outputId": "0042ca75-31d9-4d3d-921f-26d271052f92"
      },
      "execution_count": 11,
      "outputs": [
        {
          "output_type": "display_data",
          "data": {
            "text/plain": [
              "<IPython.core.display.Javascript object>"
            ],
            "application/javascript": [
              "\n",
              "    async function download(id, filename, size) {\n",
              "      if (!google.colab.kernel.accessAllowed) {\n",
              "        return;\n",
              "      }\n",
              "      const div = document.createElement('div');\n",
              "      const label = document.createElement('label');\n",
              "      label.textContent = `Downloading \"${filename}\": `;\n",
              "      div.appendChild(label);\n",
              "      const progress = document.createElement('progress');\n",
              "      progress.max = size;\n",
              "      div.appendChild(progress);\n",
              "      document.body.appendChild(div);\n",
              "\n",
              "      const buffers = [];\n",
              "      let downloaded = 0;\n",
              "\n",
              "      const channel = await google.colab.kernel.comms.open(id);\n",
              "      // Send a message to notify the kernel that we're ready.\n",
              "      channel.send({})\n",
              "\n",
              "      for await (const message of channel.messages) {\n",
              "        // Send a message to notify the kernel that we're ready.\n",
              "        channel.send({})\n",
              "        if (message.buffers) {\n",
              "          for (const buffer of message.buffers) {\n",
              "            buffers.push(buffer);\n",
              "            downloaded += buffer.byteLength;\n",
              "            progress.value = downloaded;\n",
              "          }\n",
              "        }\n",
              "      }\n",
              "      const blob = new Blob(buffers, {type: 'application/binary'});\n",
              "      const a = document.createElement('a');\n",
              "      a.href = window.URL.createObjectURL(blob);\n",
              "      a.download = filename;\n",
              "      div.appendChild(a);\n",
              "      a.click();\n",
              "      div.remove();\n",
              "    }\n",
              "  "
            ]
          },
          "metadata": {}
        },
        {
          "output_type": "display_data",
          "data": {
            "text/plain": [
              "<IPython.core.display.Javascript object>"
            ],
            "application/javascript": [
              "download(\"download_f56b3131-0001-45b7-8703-f0cf411ebf45\", \"train_cleaned.csv\", 1818424)"
            ]
          },
          "metadata": {}
        },
        {
          "output_type": "display_data",
          "data": {
            "text/plain": [
              "<IPython.core.display.Javascript object>"
            ],
            "application/javascript": [
              "\n",
              "    async function download(id, filename, size) {\n",
              "      if (!google.colab.kernel.accessAllowed) {\n",
              "        return;\n",
              "      }\n",
              "      const div = document.createElement('div');\n",
              "      const label = document.createElement('label');\n",
              "      label.textContent = `Downloading \"${filename}\": `;\n",
              "      div.appendChild(label);\n",
              "      const progress = document.createElement('progress');\n",
              "      progress.max = size;\n",
              "      div.appendChild(progress);\n",
              "      document.body.appendChild(div);\n",
              "\n",
              "      const buffers = [];\n",
              "      let downloaded = 0;\n",
              "\n",
              "      const channel = await google.colab.kernel.comms.open(id);\n",
              "      // Send a message to notify the kernel that we're ready.\n",
              "      channel.send({})\n",
              "\n",
              "      for await (const message of channel.messages) {\n",
              "        // Send a message to notify the kernel that we're ready.\n",
              "        channel.send({})\n",
              "        if (message.buffers) {\n",
              "          for (const buffer of message.buffers) {\n",
              "            buffers.push(buffer);\n",
              "            downloaded += buffer.byteLength;\n",
              "            progress.value = downloaded;\n",
              "          }\n",
              "        }\n",
              "      }\n",
              "      const blob = new Blob(buffers, {type: 'application/binary'});\n",
              "      const a = document.createElement('a');\n",
              "      a.href = window.URL.createObjectURL(blob);\n",
              "      a.download = filename;\n",
              "      div.appendChild(a);\n",
              "      a.click();\n",
              "      div.remove();\n",
              "    }\n",
              "  "
            ]
          },
          "metadata": {}
        },
        {
          "output_type": "display_data",
          "data": {
            "text/plain": [
              "<IPython.core.display.Javascript object>"
            ],
            "application/javascript": [
              "download(\"download_8269d9ac-172e-459e-a851-48a79e193373\", \"test_cleaned.csv\", 759384)"
            ]
          },
          "metadata": {}
        }
      ]
    },
    {
      "cell_type": "code",
      "source": [
        "# print(train_df.head())  # Tampilkan beberapa baris pertama\n",
        "\n",
        "# print(train_df.iloc[:, 2:].head())  # Tampilkan kolom yang dipilih\n",
        "\n",
        "# print(train_df.dtypes)  # Periksa tipe data di tiap kolom"
      ],
      "metadata": {
        "id": "WQm5CPNsj9CW"
      },
      "execution_count": null,
      "outputs": []
    },
    {
      "cell_type": "code",
      "source": [
        "# Formating input & output on train set starts here\n",
        "\n",
        "# Pisahkan kolom berdasarkan tipe datanya\n",
        "columns_int64 = cleaned_train_df.select_dtypes(include=['int64']).columns  # Semua kolom bertipe int64\n",
        "columns_float64 = cleaned_train_df.select_dtypes(include=['float64']).columns  # Semua kolom bertipe float64\n",
        "\n",
        "# Inisialisasi object StandardScaler()\n",
        "scaler = StandardScaler()\n",
        "\n",
        "# Normalisasi kolom numerikal\n",
        "normalized_float_array = scaler.fit_transform(cleaned_train_df[columns_float64])\n",
        "\n",
        "# Konversi kolom int64 & float64 ke bentuk PyTorch tensor berdasarkan tipe data\n",
        "int_tensor = torch.tensor(cleaned_train_df[columns_int64].values, dtype=torch.int64)  # Untuk int64\n",
        "float_tensor = torch.tensor(normalized_float_array, dtype=torch.float64)  # Untuk float64\n",
        "\n",
        "# Pastikan banyak baris pada int_tensor & float_tensor sama\n",
        "assert int_tensor.shape[0] == float_tensor.shape[0]\n",
        "\n",
        "# Gabungkan tensor int64 & float64\n",
        "combined_tensor = torch.cat((float_tensor, int_tensor), dim=1)\n",
        "\n",
        "# Print hasil gabungan\n",
        "print(\"Combined tensor:\\n\", combined_tensor)\n"
      ],
      "metadata": {
        "id": "0UBM-IQp-Hhr",
        "colab": {
          "base_uri": "https://localhost:8080/"
        },
        "outputId": "9b3a4ba2-2a41-4683-bcc0-111225982e73"
      },
      "execution_count": 13,
      "outputs": [
        {
          "output_type": "stream",
          "name": "stdout",
          "text": [
            "Combined tensor:\n",
            " tensor([[ 1.8679, -0.4197,  0.7277,  ...,  1.0000,  4.0000,  5.0000],\n",
            "        [-0.9709,  0.6425,  0.1681,  ...,  1.0000,  4.0000, 10.0000],\n",
            "        [-0.6582, -0.2072, -0.1046,  ...,  1.0000,  4.0000,  6.0000],\n",
            "        ...,\n",
            "        [ 0.0876,  1.3520,  0.7971,  ...,  0.0000,  4.0000,  8.0000],\n",
            "        [-1.9754,  0.6043, -1.1969,  ...,  0.0000,  4.0000,  8.0000],\n",
            "        [-0.8627,  0.8082,  0.6398,  ...,  0.0000,  4.0000, 10.0000]],\n",
            "       dtype=torch.float64)\n"
          ]
        }
      ]
    },
    {
      "cell_type": "code",
      "source": [
        "# Formating input on test set starts here\n",
        "\n",
        "# Pisahkan kolom berdasarkan tipe datanya\n",
        "columns_int64 = cleaned_test_df.select_dtypes(include=['int64']).columns  # Semua kolom bertipe int64\n",
        "columns_float64 = cleaned_test_df.select_dtypes(include=['float64']).columns  # Semua kolom bertipe float64\n",
        "\n",
        "# Inisialisasi object StandardScaler()\n",
        "scaler = StandardScaler()\n",
        "\n",
        "# Normalisasi kolom numerikal\n",
        "normalized_float_array = scaler.fit_transform(cleaned_test_df[columns_float64])\n",
        "\n",
        "# Konversi kolom int64 & float64 ke bentuk PyTorch tensor berdasarkan tipe data\n",
        "int_tensor = torch.tensor(cleaned_test_df[columns_int64].values, dtype=torch.int64)  # Untuk int64\n",
        "float_tensor = torch.tensor(normalized_float_array, dtype=torch.float64)  # Untuk float64\n",
        "\n",
        "# Pastikan banyak baris pada int_tensor & float_tensor sama\n",
        "assert int_tensor.shape[0] == float_tensor.shape[0]\n",
        "\n",
        "# Gabungkan tensor int64 & float64\n",
        "combined_tensor = torch.cat((float_tensor, int_tensor), dim=1)\n",
        "\n",
        "# Print hasil gabungan\n",
        "print(\"Combined tensor:\\n\", combined_tensor)\n"
      ],
      "metadata": {
        "id": "fkTyli_CkAX_",
        "colab": {
          "base_uri": "https://localhost:8080/"
        },
        "outputId": "8014056f-6221-42e4-89e2-19867cf97b84"
      },
      "execution_count": 14,
      "outputs": [
        {
          "output_type": "stream",
          "name": "stdout",
          "text": [
            "Combined tensor:\n",
            " tensor([[-1.4440, -1.1093, -1.4623,  ...,  1.0486,  1.0000,  4.0000],\n",
            "        [-0.2251,  1.2416,  0.6986,  ...,  0.1856,  1.0000,  4.0000],\n",
            "        [ 0.9211,  0.1939,  0.7119,  ...,  0.0313,  1.0000,  4.0000],\n",
            "        ...,\n",
            "        [ 1.5579,  1.0287,  0.1554,  ..., -1.7632,  0.0000,  4.0000],\n",
            "        [ 1.5336,  1.1351,  0.1195,  ...,  0.1936,  1.0000,  4.0000],\n",
            "        [ 0.4966,  0.8668,  0.8659,  ...,  0.0044,  0.0000,  4.0000]],\n",
            "       dtype=torch.float64)\n"
          ]
        }
      ]
    }
  ]
}