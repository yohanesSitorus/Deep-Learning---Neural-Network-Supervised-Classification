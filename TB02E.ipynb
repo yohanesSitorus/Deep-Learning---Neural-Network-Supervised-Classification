{
 "cells": [
  {
   "cell_type": "code",
   "execution_count": null,
   "metadata": {},
   "outputs": [],
   "source": [
    "#import dependencies & libraries\n",
    "from google.colab import files\n",
    "from sklearn.preprocessing import StandardScaler\n",
    "import pandas as pd\n",
    "import torch"
   ]
  },
  {
   "cell_type": "code",
   "execution_count": null,
   "metadata": {},
   "outputs": [],
   "source": [
    "#upload file csv\n",
    "uploaded = files.upload()\n",
    "\n",
    "#baca data training\n",
    "train_df = pd.read_csv(\"train.csv\")"
   ]
  },
  {
   "cell_type": "code",
   "execution_count": null,
   "metadata": {},
   "outputs": [],
   "source": [
    "#Cleaning starts here"
   ]
  },
  {
   "cell_type": "code",
   "execution_count": null,
   "metadata": {},
   "outputs": [],
   "source": [
    "#Formating input & output starts here\n",
    "# Formating input & output starts here\n",
    "\n",
    "# Pisahkan kolom berdasarkan tipe datanya\n",
    "columns_int64 = train_df.select_dtypes(include=['int64']).columns  # Semua kolom bertipe int64\n",
    "columns_float64 = train_df.select_dtypes(include=['float64']).columns  # Semua kolom bertipe float64\n",
    "\n",
    "# normalisasi nilai-nilai dalam train_array\n",
    "scaler = StandardScaler()\n",
    "\n",
    "print(columns_int64)\n",
    "\n",
    "# Konversi ke PyTorch tensor berdasarkan tipe data\n",
    "int_tensor = torch.tensor(train_df[columns_int64].values, dtype=torch.int64)  # Untuk int64\n",
    "float_tensor = torch.tensor(train_df[columns_float64].values, dtype=torch.float32)  # Untuk float64\n",
    "\n",
    "print(int_tensor)\n",
    "\n",
    "# print(train_array)\n",
    "\n",
    "# ubah array ke bentuk PyTorch tensor\n",
    "# train_tensor = torch.tensor(train_array, dtype=torch.float64)\n",
    "\n",
    "# print tensor"
   ]
  }
 ],
 "metadata": {
  "language_info": {
   "name": "python"
  }
 },
 "nbformat": 4,
 "nbformat_minor": 2
}
