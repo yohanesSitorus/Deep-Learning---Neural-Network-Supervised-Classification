{
 "cells": [
  {
   "cell_type": "code",
   "execution_count": null,
   "metadata": {},
   "outputs": [],
   "source": [
    "# Import dependencies & libraries\n",
    "from google.colab import files\n",
    "from sklearn.preprocessing import StandardScaler\n",
    "import pandas as pd\n",
    "import torch"
   ]
  },
  {
   "cell_type": "code",
   "execution_count": null,
   "metadata": {},
   "outputs": [],
   "source": [
    "# Upload file csv\n",
    "uploaded = files.upload()\n",
    "\n",
    "# Baca data training\n",
    "train_df = pd.read_csv(\"train.csv\")"
   ]
  },
  {
   "cell_type": "code",
   "execution_count": null,
   "metadata": {},
   "outputs": [],
   "source": [
    "#Cleaning starts here"
   ]
  },
  {
   "cell_type": "code",
   "execution_count": null,
   "metadata": {},
   "outputs": [],
   "source": [
    "# Formating input & output starts here\n",
    "\n",
    "# Pisahkan kolom berdasarkan tipe datanya\n",
    "columns_int64 = train_df.select_dtypes(include=['int64']).columns  # Semua kolom bertipe int64\n",
    "columns_float64 = train_df.select_dtypes(include=['float64']).columns  # Semua kolom bertipe float64\n",
    "\n",
    "# Inisialisasi object StandardScaler()\n",
    "scaler = StandardScaler()\n",
    "\n",
    "# Normalisasi kolom numerikal\n",
    "normalized_float_array = scaler.fit_transform(train_df[columns_float64]) \n",
    "\n",
    "# Konversi kolom int64 & float64 ke bentuk PyTorch tensor berdasarkan tipe data\n",
    "int_tensor = torch.tensor(train_df[columns_int64].values, dtype=torch.int64)  # Untuk int64\n",
    "float_tensor = torch.tensor(normalized_float_array, dtype=torch.float64)  # Untuk float64\n",
    "\n",
    "# Pastikan banyak baris pada int_tensor & float_tensor sama\n",
    "assert int_tensor.shape[0] == float_tensor.shape[0]\n",
    "\n",
    "# Gabungkan tensor int64 & float64\n",
    "combined_tensor = torch.cat((float_tensor, int_tensor), dim=1)\n",
    "\n",
    "# Print hasil gabungan\n",
    "print(\"Combined tensor:\\n\", combined_tensor)\n"
   ]
  }
 ],
 "metadata": {
  "language_info": {
   "name": "python"
  }
 },
 "nbformat": 4,
 "nbformat_minor": 2
}
